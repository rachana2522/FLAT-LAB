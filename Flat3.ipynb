{
  "nbformat": 4,
  "nbformat_minor": 0,
  "metadata": {
    "colab": {
      "name": "Flat3.ipynb",
      "provenance": [],
      "authorship_tag": "ABX9TyNLeZFqeT9EaBL2i/K78Kkd",
      "include_colab_link": true
    },
    "kernelspec": {
      "name": "python3",
      "display_name": "Python 3"
    },
    "language_info": {
      "name": "python"
    }
  },
  "cells": [
    {
      "cell_type": "markdown",
      "metadata": {
        "id": "view-in-github",
        "colab_type": "text"
      },
      "source": [
        "<a href=\"https://colab.research.google.com/github/rachana2522/FLAT-LAB/blob/main/Flat3.ipynb\" target=\"_parent\"><img src=\"https://colab.research.google.com/assets/colab-badge.svg\" alt=\"Open In Colab\"/></a>"
      ]
    },
    {
      "cell_type": "code",
      "execution_count": null,
      "metadata": {
        "colab": {
          "base_uri": "https://localhost:8080/"
        },
        "id": "xBq17lrzHtsR",
        "outputId": "adfb5f78-37e5-48db-a732-13ce826233c9"
      },
      "outputs": [
        {
          "output_type": "stream",
          "name": "stdout",
          "text": [
            "Collecting automata-lib\n",
            "  Downloading automata_lib-5.0.0-py3-none-any.whl (32 kB)\n",
            "Requirement already satisfied: pydot in /usr/local/lib/python3.7/dist-packages (from automata-lib) (1.3.0)\n",
            "Requirement already satisfied: pyparsing>=2.1.4 in /usr/local/lib/python3.7/dist-packages (from pydot->automata-lib) (3.0.6)\n",
            "Installing collected packages: automata-lib\n",
            "Successfully installed automata-lib-5.0.0\n"
          ]
        }
      ],
      "source": [
        "pip install automata-lib"
      ]
    },
    {
      "cell_type": "code",
      "source": [
        "from automata.fa.nfa import NFA\n",
        "nfa = NFA(\n",
        "    states={'A','B','C','D'},\n",
        "    input_symbols={'0','1'},\n",
        "    transitions={\n",
        "        'A':{'0':'A','1':{'A','B'}},\n",
        "        'B':{'1':{'C'}},\n",
        "        'C':{'1':{'D'}},\n",
        "        'D':{'0':'D','1':'D'}},\n",
        "        \n",
        "    initial_state='A',\n",
        "    final_states={'D'}\n",
        "    )\n",
        "from automata.fa.dfa import DFA\n",
        "cdfa = DFA.from_nfa(nfa)\n",
        "cdfa.show_diagram(path ='./dfa1.png')\n"
      ],
      "metadata": {
        "colab": {
          "base_uri": "https://localhost:8080/"
        },
        "id": "qafSTINNIzR_",
        "outputId": "4e381b16-1567-41db-f34a-bbdd81c5d24e"
      },
      "execution_count": null,
      "outputs": [
        {
          "output_type": "execute_result",
          "data": {
            "text/plain": [
              "<pydot.Dot at 0x7f8a06fb5b10>"
            ]
          },
          "metadata": {},
          "execution_count": 7
        }
      ]
    },
    {
      "cell_type": "code",
      "source": [
        " dfa = ~cdfa\n",
        " dfa.show_diagram(path='./dfa2.png')\n"
      ],
      "metadata": {
        "colab": {
          "base_uri": "https://localhost:8080/"
        },
        "id": "yE-pLadRM5wp",
        "outputId": "25e8514d-b5d2-4f2c-8072-abd57b8740a9"
      },
      "execution_count": null,
      "outputs": [
        {
          "output_type": "execute_result",
          "data": {
            "text/plain": [
              "<pydot.Dot at 0x7f8a06fb5090>"
            ]
          },
          "metadata": {},
          "execution_count": 9
        }
      ]
    },
    {
      "cell_type": "code",
      "source": [
        "minimal_dfa = dfa.minify()\n",
        "minimal_dfa.show_diagram(path='./dfa3.png')"
      ],
      "metadata": {
        "colab": {
          "base_uri": "https://localhost:8080/"
        },
        "id": "Y2KCNJEXNgg9",
        "outputId": "0cf07fa1-5707-4b0f-99d3-567130617455"
      },
      "execution_count": null,
      "outputs": [
        {
          "output_type": "execute_result",
          "data": {
            "text/plain": [
              "<pydot.Dot at 0x7f8a06ee5910>"
            ]
          },
          "metadata": {},
          "execution_count": 10
        }
      ]
    }
  ]
}