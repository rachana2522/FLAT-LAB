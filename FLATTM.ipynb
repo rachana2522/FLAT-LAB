{
  "nbformat": 4,
  "nbformat_minor": 0,
  "metadata": {
    "colab": {
      "name": "FLATTM.ipynb",
      "provenance": [],
      "authorship_tag": "ABX9TyMc9GX0h1+XBwAODlJS/wQb",
      "include_colab_link": true
    },
    "kernelspec": {
      "name": "python3",
      "display_name": "Python 3"
    },
    "language_info": {
      "name": "python"
    }
  },
  "cells": [
    {
      "cell_type": "markdown",
      "metadata": {
        "id": "view-in-github",
        "colab_type": "text"
      },
      "source": [
        "<a href=\"https://colab.research.google.com/github/rachana2522/FLAT-LAB/blob/main/FLATTM.ipynb\" target=\"_parent\"><img src=\"https://colab.research.google.com/assets/colab-badge.svg\" alt=\"Open In Colab\"/></a>"
      ]
    },
    {
      "cell_type": "code",
      "execution_count": 1,
      "metadata": {
        "colab": {
          "base_uri": "https://localhost:8080/"
        },
        "id": "HlZm-knhsrPU",
        "outputId": "15b9cc17-10ae-4f4e-deab-f2615c9712bd"
      },
      "outputs": [
        {
          "output_type": "stream",
          "name": "stdout",
          "text": [
            "Collecting automata-lib\n",
            "  Downloading automata_lib-5.0.0-py3-none-any.whl (32 kB)\n",
            "Requirement already satisfied: pydot in /usr/local/lib/python3.7/dist-packages (from automata-lib) (1.3.0)\n",
            "Requirement already satisfied: pyparsing>=2.1.4 in /usr/local/lib/python3.7/dist-packages (from pydot->automata-lib) (3.0.7)\n",
            "Installing collected packages: automata-lib\n",
            "Successfully installed automata-lib-5.0.0\n"
          ]
        }
      ],
      "source": [
        "pip install automata-lib"
      ]
    },
    {
      "cell_type": "code",
      "source": [
        "from automata.tm.dtm import DTM\n",
        "dtm=DTM(\n",
        "    states = {'q0','q1','q2','q3','qf'},\n",
        "    input_symbols={'a','b'},\n",
        "    tape_symbols={'x','y','a','b','B'},\n",
        "    transitions={\n",
        "        'q0':{\n",
        "            'a':('q1','x','R'),\n",
        "            'y':('q3','y','R')\n",
        "            },\n",
        "        'q1':{\n",
        "            'a':('q1','x','R'),\n",
        "            'b':('q2','y','L'),\n",
        "            'y':('q1','y','R')\n",
        "            },\n",
        "        'q2':{\n",
        "            'a':('q2','a','L'),\n",
        "            'x':('q0','x','R'),\n",
        "            'y':('q2','y','L')\n",
        "            },\n",
        "       'q3':{\n",
        "            'y':('q3','y','R'),\n",
        "            'b':('qf','B','R')}\n",
        "            },\n",
        "initial_state='q0',\n",
        "blank_symbol='B',\n",
        "final_states={'qf'}\n",
        ")"
      ],
      "metadata": {
        "id": "cETztuKitcHs"
      },
      "execution_count": 5,
      "outputs": []
    },
    {
      "cell_type": "code",
      "source": [
        "if dtm.accepts_input('aabb'):\n",
        "    print('accepted')\n",
        "else:\n",
        "     print('rejected')\n"
      ],
      "metadata": {
        "colab": {
          "base_uri": "https://localhost:8080/"
        },
        "id": "U5xmOTHt36ze",
        "outputId": "18a0c85b-2cdc-49e6-ca64-01e64a0d3272"
      },
      "execution_count": 8,
      "outputs": [
        {
          "output_type": "stream",
          "name": "stdout",
          "text": [
            "accepted\n"
          ]
        }
      ]
    },
    {
      "cell_type": "code",
      "source": [
        "dtm2 = DTM(\n",
        "     states={'q0', 'q1', 'q2', 'q3', 'q4', 'qf'}, \n",
        "     input_symbols={'a', 'b', 'c'}, \n",
        "     tape_symbols={'a', 'b', 'c', 'x', 'y', 'z', 'B'}, \n",
        "     transitions={\n",
        "         'q0' : {\n",
        "             'a' : ('q1', 'x', 'R'),\n",
        "             'y' : ('q4', 'y', 'R')\n",
        "         },\n",
        "         'q1' : {\n",
        "             'y' : ('q1', 'y', 'R'),\n",
        "             'a' : ('q1', 'a', 'R'),\n",
        "             'b' : ('q2', 'y', 'R')\n",
        "         },\n",
        "         'q2' : {\n",
        "             'b' : ('q2', 'b', 'R'),\n",
        "             'z' : ('q2', 'z', 'R'),\n",
        "             'c' : ('q3', 'z', 'L')\n",
        "         },\n",
        "         'q3' : {\n",
        "             'x' : ('q0', 'x', 'R'),\n",
        "             'z' : ('q3', 'z', 'L'),\n",
        "             'b' : ('q3', 'b', 'L'),\n",
        "             'y' : ('q3', 'y', 'L'),\n",
        "             'a' : ('q3', 'a', 'L')\n",
        "         },\n",
        "         'q4' : {\n",
        "             'y' : ('q4', 'y', 'R'),\n",
        "             'z' : ('q4', 'z', 'R'),\n",
        "             'B' : ('qf', 'B', 'L')\n",
        "         },\n",
        "     }, \n",
        "     initial_state='q0', \n",
        "     blank_symbol='B', \n",
        "     final_states={'qf'}\n",
        ")\n"
      ],
      "metadata": {
        "id": "6v0IEJkQ5o-u"
      },
      "execution_count": 9,
      "outputs": []
    },
    {
      "cell_type": "code",
      "source": [
        "if dtm2.accepts_input('aabbcc'):\n",
        "  print(\"Accepted\")\n",
        "else:\n",
        "  print(\"Rejected\")\n",
        "\n"
      ],
      "metadata": {
        "colab": {
          "base_uri": "https://localhost:8080/"
        },
        "id": "ZaKR2KlhAk_s",
        "outputId": "d4c91ac5-aacf-4168-bf53-bd074e67d087"
      },
      "execution_count": 10,
      "outputs": [
        {
          "output_type": "stream",
          "name": "stdout",
          "text": [
            "Accepted\n"
          ]
        }
      ]
    }
  ]
}