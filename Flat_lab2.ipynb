{
  "nbformat": 4,
  "nbformat_minor": 0,
  "metadata": {
    "colab": {
      "name": "Flat lab2.ipynb",
      "provenance": [],
      "authorship_tag": "ABX9TyNvCPN3yfsituvtcWjaUVQU",
      "include_colab_link": true
    },
    "kernelspec": {
      "name": "python3",
      "display_name": "Python 3"
    },
    "language_info": {
      "name": "python"
    }
  },
  "cells": [
    {
      "cell_type": "markdown",
      "metadata": {
        "id": "view-in-github",
        "colab_type": "text"
      },
      "source": [
        "<a href=\"https://colab.research.google.com/github/rachana2522/FLAT-LAB/blob/main/Flat_lab2.ipynb\" target=\"_parent\"><img src=\"https://colab.research.google.com/assets/colab-badge.svg\" alt=\"Open In Colab\"/></a>"
      ]
    },
    {
      "cell_type": "code",
      "execution_count": null,
      "metadata": {
        "id": "HIfKxOyrD_fO",
        "colab": {
          "base_uri": "https://localhost:8080/"
        },
        "outputId": "291338e6-d9fb-44bf-bc93-23a74d1a894b"
      },
      "outputs": [
        {
          "output_type": "stream",
          "name": "stdout",
          "text": [
            "Requirement already satisfied: automata-lib in /usr/local/lib/python3.7/dist-packages (5.0.0)\n",
            "Requirement already satisfied: pydot in /usr/local/lib/python3.7/dist-packages (from automata-lib) (1.3.0)\n",
            "Requirement already satisfied: pyparsing>=2.1.4 in /usr/local/lib/python3.7/dist-packages (from pydot->automata-lib) (3.0.6)\n"
          ]
        }
      ],
      "source": [
        "pip install automata-lib #install automata.lib"
      ]
    },
    {
      "cell_type": "code",
      "source": [
        "# Original DFA\n",
        "from automata.fa.dfa import DFA\n",
        "dfa = DFA(\n",
        "    states={'A','B','C','D','E'},\n",
        "    input_symbols={'0','1'},\n",
        "    transitions={\n",
        "        'A':{'1':'D','0':'B'},\n",
        "        'B':{'1':'E', '0':'C'},\n",
        "        'C':{'1':'E', '0':'B'},\n",
        "        'D':{'1':'E','0':'C'},\n",
        "        'E':{'1':'E','0':'E'},\n",
        "    },\n",
        "    initial_state='A',\n",
        "    final_states={'E'}\n",
        ")\n"
      ],
      "metadata": {
        "id": "RXBf_BdcMQtA",
        "colab": {
          "base_uri": "https://localhost:8080/",
          "height": 374
        },
        "outputId": "9e5fe6f8-cb00-4120-a3aa-37ed649b7eb6"
      },
      "execution_count": null,
      "outputs": [
        {
          "output_type": "error",
          "ename": "ModuleNotFoundError",
          "evalue": "ignored",
          "traceback": [
            "\u001b[0;31m---------------------------------------------------------------------------\u001b[0m",
            "\u001b[0;31mModuleNotFoundError\u001b[0m                       Traceback (most recent call last)",
            "\u001b[0;32m<ipython-input-3-4779beb7f3f3>\u001b[0m in \u001b[0;36m<module>\u001b[0;34m()\u001b[0m\n\u001b[1;32m      1\u001b[0m \u001b[0;31m# Original DFA\u001b[0m\u001b[0;34m\u001b[0m\u001b[0;34m\u001b[0m\u001b[0;34m\u001b[0m\u001b[0m\n\u001b[0;32m----> 2\u001b[0;31m \u001b[0;32mfrom\u001b[0m \u001b[0mautomata\u001b[0m\u001b[0;34m.\u001b[0m\u001b[0mfa\u001b[0m\u001b[0;34m.\u001b[0m\u001b[0mdfa\u001b[0m \u001b[0;32mimport\u001b[0m \u001b[0mDFA\u001b[0m\u001b[0;34m\u001b[0m\u001b[0;34m\u001b[0m\u001b[0m\n\u001b[0m\u001b[1;32m      3\u001b[0m dfa = DFA(\n\u001b[1;32m      4\u001b[0m     \u001b[0mstates\u001b[0m\u001b[0;34m=\u001b[0m\u001b[0;34m{\u001b[0m\u001b[0;34m'A'\u001b[0m\u001b[0;34m,\u001b[0m\u001b[0;34m'B'\u001b[0m\u001b[0;34m,\u001b[0m\u001b[0;34m'C'\u001b[0m\u001b[0;34m,\u001b[0m\u001b[0;34m'D'\u001b[0m\u001b[0;34m,\u001b[0m\u001b[0;34m'E'\u001b[0m\u001b[0;34m}\u001b[0m\u001b[0;34m,\u001b[0m\u001b[0;34m\u001b[0m\u001b[0;34m\u001b[0m\u001b[0m\n\u001b[1;32m      5\u001b[0m     \u001b[0minput_symbols\u001b[0m\u001b[0;34m=\u001b[0m\u001b[0;34m{\u001b[0m\u001b[0;34m'0'\u001b[0m\u001b[0;34m,\u001b[0m\u001b[0;34m'1'\u001b[0m\u001b[0;34m}\u001b[0m\u001b[0;34m,\u001b[0m\u001b[0;34m\u001b[0m\u001b[0;34m\u001b[0m\u001b[0m\n",
            "\u001b[0;31mModuleNotFoundError\u001b[0m: No module named 'automata'",
            "",
            "\u001b[0;31m---------------------------------------------------------------------------\u001b[0;32m\nNOTE: If your import is failing due to a missing package, you can\nmanually install dependencies using either !pip or !apt.\n\nTo view examples of installing some common dependencies, click the\n\"Open Examples\" button below.\n\u001b[0;31m---------------------------------------------------------------------------\u001b[0m\n"
          ],
          "errorDetails": {
            "actions": [
              {
                "action": "open_url",
                "actionText": "Open Examples",
                "url": "/notebooks/snippets/importing_libraries.ipynb"
              }
            ]
          }
        }
      ]
    },
    {
      "cell_type": "code",
      "source": [
        "#original DFA\n",
        "dfa.show_diagram(path='./fda1.png')\n"
      ],
      "metadata": {
        "id": "9sjl5QCcODuP"
      },
      "execution_count": null,
      "outputs": []
    },
    {
      "cell_type": "code",
      "source": [
        "#minimal DFA\n",
        "minimal_dfa = dfa.minify()\n",
        "minimal_dfa.show_diagram(path='./dfa2.png')"
      ],
      "metadata": {
        "id": "BJeZa8odOZPt"
      },
      "execution_count": null,
      "outputs": []
    },
    {
      "cell_type": "code",
      "source": [
        "#complement DFA\n",
        "cdfa = ~minimal_dfa\n",
        "cdfa.show_diagram(path='./dfa3.png')"
      ],
      "metadata": {
        "id": "sVOR_lgdO9kJ"
      },
      "execution_count": null,
      "outputs": []
    },
    {
      "cell_type": "code",
      "source": [
        "#Original DFA\n",
        "from automata.fa.dfa import DFA\n",
        "dfa = DFA(\n",
        "    states={'A', 'B', 'C', 'D', 'E', 'F'},\n",
        "    input_symbols={'0', '1'},\n",
        "    transitions={\n",
        "        'A':{'1':'C','0':'B'},\n",
        "        'B':{'1':'D','0':'A'},\n",
        "        'C':{'1':'F','0':'E'},\n",
        "        'D':{'1':'F','0':'E'},\n",
        "        'E':{'1':'F','0':'E'},\n",
        "        'F':{'1':'F','0':'F'},\n",
        "    },\n",
        "    initial_state='A',\n",
        "    final_states={'C', 'D', 'E'}\n",
        ")"
      ],
      "metadata": {
        "id": "6hKSfjgMS_yq",
        "colab": {
          "base_uri": "https://localhost:8080/",
          "height": 374
        },
        "outputId": "e715ef07-54d8-467f-89be-012e04f2b5c2"
      },
      "execution_count": null,
      "outputs": [
        {
          "output_type": "error",
          "ename": "ModuleNotFoundError",
          "evalue": "ignored",
          "traceback": [
            "\u001b[0;31m---------------------------------------------------------------------------\u001b[0m",
            "\u001b[0;31mModuleNotFoundError\u001b[0m                       Traceback (most recent call last)",
            "\u001b[0;32m<ipython-input-2-2fad68e1b9c9>\u001b[0m in \u001b[0;36m<module>\u001b[0;34m()\u001b[0m\n\u001b[1;32m      1\u001b[0m \u001b[0;31m#Original DFA\u001b[0m\u001b[0;34m\u001b[0m\u001b[0;34m\u001b[0m\u001b[0;34m\u001b[0m\u001b[0m\n\u001b[0;32m----> 2\u001b[0;31m \u001b[0;32mfrom\u001b[0m \u001b[0mautomata\u001b[0m\u001b[0;34m.\u001b[0m\u001b[0mfa\u001b[0m\u001b[0;34m.\u001b[0m\u001b[0mdfa\u001b[0m \u001b[0;32mimport\u001b[0m \u001b[0mDFA\u001b[0m\u001b[0;34m\u001b[0m\u001b[0;34m\u001b[0m\u001b[0m\n\u001b[0m\u001b[1;32m      3\u001b[0m dfa = DFA(\n\u001b[1;32m      4\u001b[0m     \u001b[0mstates\u001b[0m\u001b[0;34m=\u001b[0m\u001b[0;34m{\u001b[0m\u001b[0;34m'A'\u001b[0m\u001b[0;34m,\u001b[0m \u001b[0;34m'B'\u001b[0m\u001b[0;34m,\u001b[0m \u001b[0;34m'C'\u001b[0m\u001b[0;34m,\u001b[0m \u001b[0;34m'D'\u001b[0m\u001b[0;34m,\u001b[0m \u001b[0;34m'E'\u001b[0m\u001b[0;34m,\u001b[0m \u001b[0;34m'F'\u001b[0m\u001b[0;34m}\u001b[0m\u001b[0;34m,\u001b[0m\u001b[0;34m\u001b[0m\u001b[0;34m\u001b[0m\u001b[0m\n\u001b[1;32m      5\u001b[0m     \u001b[0minput_symbols\u001b[0m\u001b[0;34m=\u001b[0m\u001b[0;34m{\u001b[0m\u001b[0;34m'0'\u001b[0m\u001b[0;34m,\u001b[0m \u001b[0;34m'1'\u001b[0m\u001b[0;34m}\u001b[0m\u001b[0;34m,\u001b[0m\u001b[0;34m\u001b[0m\u001b[0;34m\u001b[0m\u001b[0m\n",
            "\u001b[0;31mModuleNotFoundError\u001b[0m: No module named 'automata'",
            "",
            "\u001b[0;31m---------------------------------------------------------------------------\u001b[0;32m\nNOTE: If your import is failing due to a missing package, you can\nmanually install dependencies using either !pip or !apt.\n\nTo view examples of installing some common dependencies, click the\n\"Open Examples\" button below.\n\u001b[0;31m---------------------------------------------------------------------------\u001b[0m\n"
          ],
          "errorDetails": {
            "actions": [
              {
                "action": "open_url",
                "actionText": "Open Examples",
                "url": "/notebooks/snippets/importing_libraries.ipynb"
              }
            ]
          }
        }
      ]
    },
    {
      "cell_type": "code",
      "source": [
        "#Original DFA\n",
        "dfa.show_diagram(path='./dfa4.png')"
      ],
      "metadata": {
        "colab": {
          "base_uri": "https://localhost:8080/"
        },
        "id": "90V1eySmTFM-",
        "outputId": "fe4d6f70-74b4-4654-f642-7751d952c02b"
      },
      "execution_count": null,
      "outputs": [
        {
          "output_type": "execute_result",
          "data": {
            "text/plain": [
              "<pydot.Dot at 0x7fe91935ed90>"
            ]
          },
          "metadata": {},
          "execution_count": 11
        }
      ]
    },
    {
      "cell_type": "code",
      "source": [
        "#Minimal DFA\n",
        "minimal_dfa = dfa.minify()\n",
        "minimal_dfa.show_diagram(path='./dfa5.png')"
      ],
      "metadata": {
        "colab": {
          "base_uri": "https://localhost:8080/"
        },
        "id": "nM2RoE6oO6Qc",
        "outputId": "8182d6e3-11f7-45a8-da5f-e9465221d4ed"
      },
      "execution_count": null,
      "outputs": [
        {
          "output_type": "execute_result",
          "data": {
            "text/plain": [
              "<pydot.Dot at 0x7fe91934e550>"
            ]
          },
          "metadata": {},
          "execution_count": 12
        }
      ]
    },
    {
      "cell_type": "code",
      "source": [
        "#complement DFA\n",
        "cdfa=~minimal_dfa\n",
        "cdfa.show_diagram(path='./dfa6.png')"
      ],
      "metadata": {
        "colab": {
          "base_uri": "https://localhost:8080/"
        },
        "id": "AzE1ZBy4TMpH",
        "outputId": "1d1eada3-d1f7-4f90-fbed-d09473a686ae"
      },
      "execution_count": null,
      "outputs": [
        {
          "output_type": "execute_result",
          "data": {
            "text/plain": [
              "<pydot.Dot at 0x7fe9192992d0>"
            ]
          },
          "metadata": {},
          "execution_count": 13
        }
      ]
    },
    {
      "cell_type": "code",
      "source": [
        "from automata.fa.nfa import NFA\n",
        "nfa = NFA(\n",
        "    states={'A', 'B', 'C', 'D', 'E'},\n",
        "    input_symbols={'0', '1'},\n",
        "    transitions={\n",
        "        'A':{'0':{'A', 'B', 'D'}},\n",
        "        'B':{'1':'C'},\n",
        "        'C':{'0':'A'},\n",
        "        'D':{'1':'E'},\n",
        "        'E':{'1':'E','0':'E'},\n",
        "    },\n",
        "    initial_state='A',\n",
        "    final_states={'E'}\n",
        ")\n",
        "dfa = DFA.from_nfa(nfa)\n",
        "dfa.show_diagram(path='./dfa7.png')"
      ],
      "metadata": {
        "colab": {
          "base_uri": "https://localhost:8080/"
        },
        "id": "_LqrjAWnY40l",
        "outputId": "e17ba27d-7be4-4ff0-c95a-9488389e0fc0"
      },
      "execution_count": null,
      "outputs": [
        {
          "output_type": "execute_result",
          "data": {
            "text/plain": [
              "<pydot.Dot at 0x7fe9192bce50>"
            ]
          },
          "metadata": {},
          "execution_count": 15
        }
      ]
    },
    {
      "cell_type": "code",
      "source": [
        "#Original NFA\n",
        "dfa.show_diagram(path='./dfa7.png')"
      ],
      "metadata": {
        "colab": {
          "base_uri": "https://localhost:8080/"
        },
        "id": "8lzo0KRWb9Bf",
        "outputId": "0134988c-358f-4208-d1e8-ed335fc11b24"
      },
      "execution_count": null,
      "outputs": [
        {
          "output_type": "execute_result",
          "data": {
            "text/plain": [
              "<pydot.Dot at 0x7fe9192add10>"
            ]
          },
          "metadata": {},
          "execution_count": 16
        }
      ]
    },
    {
      "cell_type": "code",
      "source": [
        "#Minimal DFA\n",
        "minimal_dfa = dfa.minify()\n",
        "minimal_dfa.show_diagram(path='./dfa8.png')"
      ],
      "metadata": {
        "colab": {
          "base_uri": "https://localhost:8080/"
        },
        "id": "2lSpSvxqcOYY",
        "outputId": "0e63952a-38bf-40ee-cbe1-e8e82c8ad51a"
      },
      "execution_count": null,
      "outputs": [
        {
          "output_type": "execute_result",
          "data": {
            "text/plain": [
              "<pydot.Dot at 0x7fe9193376d0>"
            ]
          },
          "metadata": {},
          "execution_count": 19
        }
      ]
    },
    {
      "cell_type": "code",
      "source": [
        "#complement DFA\n",
        "cdfa=~minimal_dfa\n",
        "cdfa.show_diagram(path='./dfa9.png')"
      ],
      "metadata": {
        "colab": {
          "base_uri": "https://localhost:8080/"
        },
        "id": "b2drnS7qcXX-",
        "outputId": "662a944e-5ac3-4559-b4df-426a4578428e"
      },
      "execution_count": null,
      "outputs": [
        {
          "output_type": "execute_result",
          "data": {
            "text/plain": [
              "<pydot.Dot at 0x7fe9192530d0>"
            ]
          },
          "metadata": {},
          "execution_count": 20
        }
      ]
    }
  ]
}