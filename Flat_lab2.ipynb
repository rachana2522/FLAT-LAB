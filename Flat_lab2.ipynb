{
  "nbformat": 4,
  "nbformat_minor": 0,
  "metadata": {
    "colab": {
      "name": "Flat lab2.ipynb",
      "provenance": [],
      "authorship_tag": "ABX9TyNvCPN3yfsituvtcWjaUVQU",
      "include_colab_link": true
    },
    "kernelspec": {
      "name": "python3",
      "display_name": "Python 3"
    },
    "language_info": {
      "name": "python"
    }
  },
  "cells": [
    {
      "cell_type": "markdown",
      "metadata": {
        "id": "view-in-github",
        "colab_type": "text"
      },
      "source": [
        "<a href=\"https://colab.research.google.com/github/rachana2522/FLAT-LAB/blob/main/Flat_lab2.ipynb\" target=\"_parent\"><img src=\"https://colab.research.google.com/assets/colab-badge.svg\" alt=\"Open In Colab\"/></a>"
      ]
    },
    {
      "cell_type": "code",
      "execution_count": null,
      "metadata": {
        "id": "HIfKxOyrD_fO",
        "colab": {
          "base_uri": "https://localhost:8080/"
        },
        "outputId": "d5dba5d7-01d1-41b9-ff9a-004d0a4d43de"
      },
      "outputs": [
        {
          "output_type": "stream",
          "name": "stdout",
          "text": [
            "Collecting automata-lib\n",
            "  Downloading automata_lib-5.0.0-py3-none-any.whl (32 kB)\n",
            "Requirement already satisfied: pydot in /usr/local/lib/python3.7/dist-packages (from automata-lib) (1.3.0)\n",
            "Requirement already satisfied: pyparsing>=2.1.4 in /usr/local/lib/python3.7/dist-packages (from pydot->automata-lib) (3.0.6)\n",
            "Installing collected packages: automata-lib\n",
            "Successfully installed automata-lib-5.0.0\n"
          ]
        }
      ],
      "source": [
        "pip install automata-lib #install automata.lib"
      ]
    },
    {
      "cell_type": "code",
      "source": [
        "# Original DFA\n",
        "from automata.fa.dfa import DFA\n",
        "dfa = DFA(\n",
        "    states={'A','B','C','D','E'},\n",
        "    input_symbols={'0','1'},\n",
        "    transitions={\n",
        "        'A':{'1':'D','0':'B'},\n",
        "        'B':{'1':'E', '0':'C'},\n",
        "        'C':{'1':'E', '0':'B'},\n",
        "        'D':{'1':'E','0':'C'},\n",
        "        'E':{'1':'E','0':'E'},\n",
        "    },\n",
        "    initial_state='A',\n",
        "    final_states={'E'}\n",
        ")\n"
      ],
      "metadata": {
        "id": "RXBf_BdcMQtA"
      },
      "execution_count": null,
      "outputs": []
    },
    {
      "cell_type": "code",
      "source": [
        "#original DFA\n",
        "dfa.show_diagram(path='./fda1.png')\n"
      ],
      "metadata": {
        "id": "9sjl5QCcODuP",
        "outputId": "7054721d-d97e-4800-d59d-102354682f43",
        "colab": {
          "base_uri": "https://localhost:8080/"
        }
      },
      "execution_count": null,
      "outputs": [
        {
          "output_type": "execute_result",
          "data": {
            "text/plain": [
              "<pydot.Dot at 0x7fcadfcca950>"
            ]
          },
          "metadata": {},
          "execution_count": 7
        }
      ]
    },
    {
      "cell_type": "code",
      "source": [
        "#minimal DFA\n",
        "minimal_dfa = dfa.minify()\n",
        "minimal_dfa.show_diagram(path='./dfa2.png')"
      ],
      "metadata": {
        "id": "BJeZa8odOZPt",
        "colab": {
          "base_uri": "https://localhost:8080/"
        },
        "outputId": "3e8d404c-e213-4545-8491-adfe65d42652"
      },
      "execution_count": null,
      "outputs": [
        {
          "output_type": "execute_result",
          "data": {
            "text/plain": [
              "<pydot.Dot at 0x7fcadfce3910>"
            ]
          },
          "metadata": {},
          "execution_count": 8
        }
      ]
    },
    {
      "cell_type": "code",
      "source": [
        "#complement DFA\n",
        "cdfa = ~minimal_dfa\n",
        "cdfa.show_diagram(path='./dfa3.png')"
      ],
      "metadata": {
        "id": "sVOR_lgdO9kJ",
        "colab": {
          "base_uri": "https://localhost:8080/"
        },
        "outputId": "f8875552-b331-4ea2-ee66-c1c3580bf5e1"
      },
      "execution_count": null,
      "outputs": [
        {
          "output_type": "execute_result",
          "data": {
            "text/plain": [
              "<pydot.Dot at 0x7fcadf57d950>"
            ]
          },
          "metadata": {},
          "execution_count": 9
        }
      ]
    },
    {
      "cell_type": "code",
      "source": [
        "#Original DFA\n",
        "from automata.fa.dfa import DFA\n",
        "dfa = DFA(\n",
        "    states={'A', 'B', 'C', 'D', 'E', 'F'},\n",
        "    input_symbols={'0', '1'},\n",
        "    transitions={\n",
        "        'A':{'1':'C','0':'B'},\n",
        "        'B':{'1':'D','0':'A'},\n",
        "        'C':{'1':'F','0':'E'},\n",
        "        'D':{'1':'F','0':'E'},\n",
        "        'E':{'1':'F','0':'E'},\n",
        "        'F':{'1':'F','0':'F'},\n",
        "    },\n",
        "    initial_state='A',\n",
        "    final_states={'C', 'D', 'E'}\n",
        ")"
      ],
      "metadata": {
        "id": "6hKSfjgMS_yq"
      },
      "execution_count": null,
      "outputs": []
    },
    {
      "cell_type": "code",
      "source": [
        "#Original DFA\n",
        "dfa.show_diagram(path='./dfa4.png')"
      ],
      "metadata": {
        "colab": {
          "base_uri": "https://localhost:8080/"
        },
        "id": "90V1eySmTFM-",
        "outputId": "19b7e79d-1638-4675-ba16-66df25bd1e9a"
      },
      "execution_count": null,
      "outputs": [
        {
          "output_type": "execute_result",
          "data": {
            "text/plain": [
              "<pydot.Dot at 0x7fcadf5d4750>"
            ]
          },
          "metadata": {},
          "execution_count": 11
        }
      ]
    },
    {
      "cell_type": "code",
      "source": [
        "#Minimal DFA\n",
        "minimal_dfa = dfa.minify()\n",
        "minimal_dfa.show_diagram(path='./dfa5.png')"
      ],
      "metadata": {
        "colab": {
          "base_uri": "https://localhost:8080/"
        },
        "id": "nM2RoE6oO6Qc",
        "outputId": "5e8697e7-e619-4351-e8e1-fece274f17f2"
      },
      "execution_count": null,
      "outputs": [
        {
          "output_type": "execute_result",
          "data": {
            "text/plain": [
              "<pydot.Dot at 0x7fcadf583b10>"
            ]
          },
          "metadata": {},
          "execution_count": 12
        }
      ]
    },
    {
      "cell_type": "code",
      "source": [
        "#complement DFA\n",
        "cdfa=~minimal_dfa\n",
        "cdfa.show_diagram(path='./dfa6.png')"
      ],
      "metadata": {
        "colab": {
          "base_uri": "https://localhost:8080/"
        },
        "id": "AzE1ZBy4TMpH",
        "outputId": "2cd57caa-d365-4f3c-8cde-a06a1cfd1595"
      },
      "execution_count": null,
      "outputs": [
        {
          "output_type": "execute_result",
          "data": {
            "text/plain": [
              "<pydot.Dot at 0x7fcadf4db750>"
            ]
          },
          "metadata": {},
          "execution_count": 13
        }
      ]
    },
    {
      "cell_type": "code",
      "source": [
        "from automata.fa.nfa import NFA\n",
        "nfa = NFA(\n",
        "    states={'A', 'B', 'C', 'D', 'E'},\n",
        "    input_symbols={'0', '1'},\n",
        "    transitions={\n",
        "        'A':{'0':{'A', 'B', 'D'}},\n",
        "        'B':{'1':'C'},\n",
        "        'C':{'0':'A'},\n",
        "        'D':{'1':'E'},\n",
        "        'E':{'1':'E','0':'E'},\n",
        "    },\n",
        "    initial_state='A',\n",
        "    final_states={'E'}\n",
        ")\n",
        "dfa = DFA.from_nfa(nfa)\n",
        "dfa.show_diagram(path='./dfa7.png')"
      ],
      "metadata": {
        "colab": {
          "base_uri": "https://localhost:8080/"
        },
        "id": "_LqrjAWnY40l",
        "outputId": "d1df0a9b-0abe-4aec-9f75-d7d291610a0d"
      },
      "execution_count": null,
      "outputs": [
        {
          "output_type": "execute_result",
          "data": {
            "text/plain": [
              "<pydot.Dot at 0x7fcae6014dd0>"
            ]
          },
          "metadata": {},
          "execution_count": 14
        }
      ]
    },
    {
      "cell_type": "code",
      "source": [
        "#Original NFA\n",
        "dfa.show_diagram(path='./dfa7.png')"
      ],
      "metadata": {
        "colab": {
          "base_uri": "https://localhost:8080/"
        },
        "id": "8lzo0KRWb9Bf",
        "outputId": "cc698e1e-2682-4196-a218-a4054b20f471"
      },
      "execution_count": null,
      "outputs": [
        {
          "output_type": "execute_result",
          "data": {
            "text/plain": [
              "<pydot.Dot at 0x7fcadf4a1390>"
            ]
          },
          "metadata": {},
          "execution_count": 15
        }
      ]
    },
    {
      "cell_type": "code",
      "source": [
        "#Minimal DFA\n",
        "minimal_dfa = dfa.minify()\n",
        "minimal_dfa.show_diagram(path='./dfa8.png')"
      ],
      "metadata": {
        "colab": {
          "base_uri": "https://localhost:8080/"
        },
        "id": "2lSpSvxqcOYY",
        "outputId": "3d09d9a3-341e-48ea-c245-e852282ad7e4"
      },
      "execution_count": null,
      "outputs": [
        {
          "output_type": "execute_result",
          "data": {
            "text/plain": [
              "<pydot.Dot at 0x7fcadf476290>"
            ]
          },
          "metadata": {},
          "execution_count": 16
        }
      ]
    },
    {
      "cell_type": "code",
      "source": [
        "#complement DFA\n",
        "cdfa=~minimal_dfa\n",
        "cdfa.show_diagram(path='./dfa9.png')"
      ],
      "metadata": {
        "colab": {
          "base_uri": "https://localhost:8080/"
        },
        "id": "b2drnS7qcXX-",
        "outputId": "f374d138-ddd1-4cf6-a42f-134a080cb7c2"
      },
      "execution_count": null,
      "outputs": [
        {
          "output_type": "execute_result",
          "data": {
            "text/plain": [
              "<pydot.Dot at 0x7fcadf40aa90>"
            ]
          },
          "metadata": {},
          "execution_count": 17
        }
      ]
    }
  ]
}