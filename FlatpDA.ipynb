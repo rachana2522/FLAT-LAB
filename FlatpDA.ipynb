{
  "nbformat": 4,
  "nbformat_minor": 0,
  "metadata": {
    "colab": {
      "name": "FlatpDA.ipynb",
      "provenance": [],
      "authorship_tag": "ABX9TyPqY9SKsN9xCbVzL+Q2Pfq8",
      "include_colab_link": true
    },
    "kernelspec": {
      "name": "python3",
      "display_name": "Python 3"
    },
    "language_info": {
      "name": "python"
    }
  },
  "cells": [
    {
      "cell_type": "markdown",
      "metadata": {
        "id": "view-in-github",
        "colab_type": "text"
      },
      "source": [
        "<a href=\"https://colab.research.google.com/github/rachana2522/FLAT-LAB/blob/main/FlatpDA.ipynb\" target=\"_parent\"><img src=\"https://colab.research.google.com/assets/colab-badge.svg\" alt=\"Open In Colab\"/></a>"
      ]
    },
    {
      "cell_type": "code",
      "execution_count": null,
      "metadata": {
        "colab": {
          "base_uri": "https://localhost:8080/"
        },
        "id": "CvVDHDM0qi3e",
        "outputId": "3ca23283-e941-475c-df27-57b134714d72"
      },
      "outputs": [
        {
          "output_type": "stream",
          "name": "stdout",
          "text": [
            "Collecting automata-lib\n",
            "  Downloading automata_lib-5.0.0-py3-none-any.whl (32 kB)\n",
            "Requirement already satisfied: pydot in /usr/local/lib/python3.7/dist-packages (from automata-lib) (1.3.0)\n",
            "Requirement already satisfied: pyparsing>=2.1.4 in /usr/local/lib/python3.7/dist-packages (from pydot->automata-lib) (3.0.7)\n",
            "Installing collected packages: automata-lib\n",
            "Successfully installed automata-lib-5.0.0\n"
          ]
        }
      ],
      "source": [
        "pip install automata-lib"
      ]
    },
    {
      "cell_type": "code",
      "source": [
        "from automata .pda.dpda import DPDA\n",
        "dpda = DPDA(\n",
        "    states={'q0','q1','qf'},\n",
        "    input_symbols={'a','b'},\n",
        "    stack_symbols={'z','x'},\n",
        "    transitions={\n",
        "        'q0':{\n",
        "            'a':{\n",
        "                'z':('q0',('x','z')),\n",
        "                'x':('q0',('x','x'))\n",
        "            },\n",
        "            \n",
        "            'b':{\n",
        "                'x':('q1','')}\n",
        "          \n",
        "        },\n",
        "            'q1':{\n",
        "                'b':{'x':('q1','')},\n",
        "                '':{'z':('qf','')}\n",
        "            }\n",
        "    },\n",
        "    initial_state='q0',\n",
        "    initial_stack_symbol='z',\n",
        "    final_states={'qf',},\n",
        "    acceptance_mode='both'\n",
        "    )\n",
        "\n"
      ],
      "metadata": {
        "id": "1B1BqotgrTLU"
      },
      "execution_count": null,
      "outputs": []
    },
    {
      "cell_type": "code",
      "source": [
        "if dpda.accepts_input('aabb'):\n",
        "  print('accepted')\n",
        "else:\n",
        "  print('Not accepted')"
      ],
      "metadata": {
        "colab": {
          "base_uri": "https://localhost:8080/"
        },
        "id": "E0JC5iAVxB1_",
        "outputId": "0cbfe4a9-0b9c-414c-ea5b-23572d83f6c7"
      },
      "execution_count": null,
      "outputs": [
        {
          "output_type": "stream",
          "name": "stdout",
          "text": [
            "accepted\n"
          ]
        }
      ]
    },
    {
      "cell_type": "code",
      "source": [
        "from automata .pda.dpda import DPDA\n",
        "dpda2 = DPDA(\n",
        "    states={'q0','q1','qf'},\n",
        "    input_symbols={'a','b'},\n",
        "    stack_symbols={'z','x'},\n",
        "    transitions={\n",
        "        'q0':{\n",
        "            'a':{\n",
        "                'z':('q0',('x','z')),\n",
        "                'x':('q0',('x','x'))\n",
        "            },\n",
        "            'b':{\n",
        "                'x':('q1','')},\n",
        "             \n",
        "        },\n",
        "            'q1':{\n",
        "                'b':{'x':('q1','')},\n",
        "                '':{'z':('qf','')}\n",
        "            }\n",
        "    },\n",
        "    initial_state='q0',\n",
        "    initial_stack_symbol='z',\n",
        "    final_states={'q0','qf'},\n",
        "    acceptance_mode='both'\n",
        "    )\n",
        "\n"
      ],
      "metadata": {
        "id": "6T1cWfucyNMj"
      },
      "execution_count": null,
      "outputs": []
    },
    {
      "cell_type": "code",
      "source": [
        "intputstr2= input(\"Enter:\")\n",
        "if dpda2.accepts_input(intputstr2):\n",
        "  print(\"string is accepted\")\n",
        "else:\n",
        "  print(\"string is not accepted\")"
      ],
      "metadata": {
        "colab": {
          "base_uri": "https://localhost:8080/"
        },
        "id": "N1xKWfNS18Z-",
        "outputId": "8b657f8e-b932-4232-8cbf-b8a7b43857d1"
      },
      "execution_count": null,
      "outputs": [
        {
          "output_type": "stream",
          "name": "stdout",
          "text": [
            "Enter:aabb\n",
            "string is accepted\n"
          ]
        }
      ]
    },
    {
      "cell_type": "code",
      "source": [
        "from automata .pda.dpda import DPDA\n",
        "dpda2 = DPDA(\n",
        "    states={'q0','q1','qf'},\n",
        "    input_symbols={'a','b'},\n",
        "    stack_symbols={'z','x'},\n",
        "    transitions={\n",
        "        'q0':{\n",
        "            'a':{\n",
        "                'z':('q0',('x','z')),\n",
        "                'x':('q0',('x','x'))\n",
        "            },\n",
        "            'b':{\n",
        "                'x':('q1','')},\n",
        "             \n",
        "        },\n",
        "            'q1':{\n",
        "                'b':{'x':('q1','')},\n",
        "                '':{'z':('qf','')}\n",
        "            }\n",
        "    },\n",
        "    initial_state='q0',\n",
        "    initial_stack_symbol='z',\n",
        "    final_states={'q0','qf'},\n",
        "    acceptance_mode='both'\n",
        "    )\n",
        "\n"
      ],
      "metadata": {
        "id": "xgMN-ltp4QW1"
      },
      "execution_count": null,
      "outputs": []
    }
  ]
}