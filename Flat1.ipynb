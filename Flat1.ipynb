{
  "nbformat": 4,
  "nbformat_minor": 0,
  "metadata": {
    "colab": {
      "name": "Flat1.ipynb",
      "provenance": [],
      "collapsed_sections": [],
      "authorship_tag": "ABX9TyPJmGWBbPBV65gjQFzi+x/G",
      "include_colab_link": true
    },
    "kernelspec": {
      "name": "python3",
      "display_name": "Python 3"
    },
    "language_info": {
      "name": "python"
    }
  },
  "cells": [
    {
      "cell_type": "markdown",
      "metadata": {
        "id": "view-in-github",
        "colab_type": "text"
      },
      "source": [
        "<a href=\"https://colab.research.google.com/github/rachana2522/FLAT-LAB/blob/main/Flat1.ipynb\" target=\"_parent\"><img src=\"https://colab.research.google.com/assets/colab-badge.svg\" alt=\"Open In Colab\"/></a>"
      ]
    },
    {
      "cell_type": "code",
      "execution_count": 2,
      "metadata": {
        "colab": {
          "base_uri": "https://localhost:8080/"
        },
        "id": "hKSg-UliErW2",
        "outputId": "3faf4039-4fd0-4cf8-db00-944f9d75e3ed"
      },
      "outputs": [
        {
          "output_type": "stream",
          "name": "stdout",
          "text": [
            "Collecting automata-lib\n",
            "  Downloading automata_lib-5.0.0-py3-none-any.whl (32 kB)\n",
            "Requirement already satisfied: pydot in /usr/local/lib/python3.7/dist-packages (from automata-lib) (1.3.0)\n",
            "Requirement already satisfied: pyparsing>=2.1.4 in /usr/local/lib/python3.7/dist-packages (from pydot->automata-lib) (3.0.6)\n",
            "Installing collected packages: automata-lib\n",
            "Successfully installed automata-lib-5.0.0\n"
          ]
        }
      ],
      "source": [
        "pip install automata-lib"
      ]
    },
    {
      "cell_type": "markdown",
      "source": [
        "Lab 3 TO ACCEPTS ALL STRING 101 SUBSTRING"
      ],
      "metadata": {
        "id": "FqtuEiwAPAxW"
      }
    },
    {
      "cell_type": "code",
      "source": [
        "from automata.fa.nfa import NFA\n",
        "checkNFA = NFA(\n",
        "    states={'A','B','C','D'},\n",
        "    input_symbols={'0','1'},\n",
        "    transitions={\n",
        "        'A':{'1':{'A','B'},'0':{'A'}},\n",
        "        'B':{'0':{'C'}},\n",
        "        'C':{'1':{'D'}},\n",
        "        'D':{'1':{'D'},'0':{'D'}},\n",
        "    },\n",
        "    initial_state='A',\n",
        "    final_states={'D'}\n",
        "    )\n",
        "inputNum = input(\"Enter nums :\")\n",
        "if checkNFA.accepts_input(inputNum):\n",
        "  print(\"String is Accepted\")\n",
        "else:\n",
        "  print(\"String is Rejected\")"
      ],
      "metadata": {
        "id": "RXBf_BdcMQtA",
        "colab": {
          "base_uri": "https://localhost:8080/"
        },
        "outputId": "3a2249ef-030a-4394-989c-f4fefaedc5ba"
      },
      "execution_count": 3,
      "outputs": [
        {
          "output_type": "stream",
          "name": "stdout",
          "text": [
            "Enter nums :1121\n",
            "String is Rejected\n"
          ]
        }
      ]
    },
    {
      "cell_type": "code",
      "source": [
        "inputNum = input(\" Enter a string:\")\n",
        "if checkNFA.accepts_input(inputNum):\n",
        "  print(\"String is Accepted\")\n",
        "else:\n",
        "  print(\"String is Rejected\")"
      ],
      "metadata": {
        "colab": {
          "base_uri": "https://localhost:8080/"
        },
        "id": "TUx5doCMQPYt",
        "outputId": "5ccf45f8-cd4f-411f-9d2c-1c2b3fb10c96"
      },
      "execution_count": 4,
      "outputs": [
        {
          "output_type": "stream",
          "name": "stdout",
          "text": [
            " Enter a string:1111\n",
            "String is Rejected\n"
          ]
        }
      ]
    },
    {
      "cell_type": "markdown",
      "source": [
        "To accepts all string for (0+1)* 100(0+1) *011\n"
      ],
      "metadata": {
        "id": "SCLVhrm3SGbe"
      }
    },
    {
      "cell_type": "code",
      "source": [
        "from automata.fa.nfa import NFA\n",
        "checkNFA = NFA(\n",
        "    states={'A','B','C','D','E','F','G'},\n",
        "    input_symbols={'0','1'},\n",
        "    transitions={\n",
        "        'A':{'1':{'A','B'},'0':{'A'}},\n",
        "        'B':{'0':{'C'}},\n",
        "        'C':{'0':{'D'}},\n",
        "        'D':{'1':{'D'},'0':{'D','E'}},\n",
        "        'E':{'1':{'F'}},\n",
        "        'F':{'1':{'G'}},\n",
        "        'G':{},\n",
        "    },\n",
        "    initial_state='A',\n",
        "    final_states={'G'}\n",
        "    )\n",
        "inputNum = input(\"Enter nums :\")\n",
        "if checkNFA.accepts_input(inputNum):\n",
        "  print(\"String is Accepted\")\n",
        "else:\n",
        "  print(\"String is Rejected\")\n"
      ],
      "metadata": {
        "id": "H_P6B8K0SZk8",
        "colab": {
          "base_uri": "https://localhost:8080/"
        },
        "outputId": "14c85e5a-1f85-4186-f521-a75d90555e48"
      },
      "execution_count": 5,
      "outputs": [
        {
          "output_type": "stream",
          "name": "stdout",
          "text": [
            "Enter nums :0000\n",
            "String is Rejected\n"
          ]
        }
      ]
    }
  ]
}